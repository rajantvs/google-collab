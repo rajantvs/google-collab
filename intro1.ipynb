{
  "nbformat": 4,
  "nbformat_minor": 0,
  "metadata": {
    "colab": {
      "name": "intro1.ipynb",
      "provenance": []
    },
    "language_info": {
      "name": "python"
    },
    "kernelspec": {
      "name": "python3",
      "display_name": "Python 3"
    }
  },
  "cells": [
    {
      "cell_type": "markdown",
      "source": [
        "## github colab compatibility"
      ],
      "metadata": {
        "id": "j0V4GIkUo64b"
      }
    },
    {
      "cell_type": "code",
      "source": [
        ""
      ],
      "metadata": {
        "id": "HTIdInfkyeEv"
      },
      "execution_count": null,
      "outputs": []
    },
    {
      "cell_type": "markdown",
      "source": [
        "### 1. open and save notebook from github\n",
        "\n",
        "* click on file then new repository then choose github\n",
        "\n",
        "* click on save as github and them save\n"
      ],
      "metadata": {
        "id": "Eb6Z-QUlo7vm"
      }
    },
    {
      "cell_type": "markdown",
      "source": [
        "### 2. import file from github\n"
      ],
      "metadata": {
        "id": "4fRkGH_GAUZj"
      }
    },
    {
      "cell_type": "code",
      "source": [
        "user = \"jckantor\"\n",
        "repo = \"cbe-virtual-laboratory\"\n",
        "src_dir = \"src\"\n",
        "pyfile = \"hello_world.py\""
      ],
      "metadata": {
        "id": "T7gu7ZzFATbn"
      },
      "execution_count": null,
      "outputs": []
    },
    {
      "cell_type": "code",
      "source": [
        "url = f\"https://raw.githubusercontent.com/{user}/{repo}/main/{src_dir}/{pyfile}\"\n",
        "!wget --no-cache --backups=1 {url}"
      ],
      "metadata": {
        "id": "1JBxTdJiCZu6"
      },
      "execution_count": null,
      "outputs": []
    },
    {
      "cell_type": "code",
      "source": [
        "import matplotlib.pyplot as plt\n",
        "import numpy as np\n",
        "\n",
        "plt.rcParams[\"figure.figsize\"] = [7.00, 3.50]\n",
        "plt.rcParams[\"figure.autolayout\"] = True\n",
        "\n",
        "fig = plt.figure()\n",
        "\n",
        "ax = fig.add_subplot(projection = \"3d\")\n",
        "\n",
        "r = 0.05\n",
        "\n",
        "u,v = np.mgrid[0:2 * np.pi:30j, 0:np.pi:20j]\n",
        "\n",
        "x = np.cos(u) * np.sin(v)\n",
        "y = np.sin(u) * np.sin(v)\n",
        "z = np.cos(v)\n",
        "\n",
        "ax.plot_surface(x,y,z, cmap = plt.cm.YlGnBu_r)\n",
        "plt.show()\n"
      ],
      "metadata": {
        "id": "r4s_qpXiCddS"
      },
      "execution_count": null,
      "outputs": []
    },
    {
      "cell_type": "code",
      "source": [
        ""
      ],
      "metadata": {
        "id": "7kTSo8kGzyWo"
      },
      "execution_count": null,
      "outputs": []
    }
  ]
}