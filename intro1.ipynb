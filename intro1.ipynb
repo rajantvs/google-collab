{
  "nbformat": 4,
  "nbformat_minor": 0,
  "metadata": {
    "colab": {
      "name": "intro1.ipynb",
      "provenance": []
    },
    "language_info": {
      "name": "python"
    },
    "kernelspec": {
      "name": "python3",
      "display_name": "Python 3"
    }
  },
  "cells": [
    {
      "cell_type": "markdown",
      "source": [
        "## github colab compatibility"
      ],
      "metadata": {
        "id": "j0V4GIkUo64b"
      }
    },
    {
      "cell_type": "markdown",
      "source": [
        "### 1. open and save notebook from github\n",
        "\n",
        "* click on file then new repository then choose github\n"
      ],
      "metadata": {
        "id": "Eb6Z-QUlo7vm"
      }
    }
  ]
}