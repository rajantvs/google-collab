{
  "nbformat": 4,
  "nbformat_minor": 0,
  "metadata": {
    "colab": {
      "name": "intro1.ipynb",
      "provenance": []
    },
    "language_info": {
      "name": "python"
    },
    "kernelspec": {
      "name": "python3",
      "display_name": "Python 3"
    }
  },
  "cells": [
    {
      "cell_type": "markdown",
      "source": [
        "## github colab compatibility"
      ],
      "metadata": {
        "id": "j0V4GIkUo64b"
      }
    },
    {
      "cell_type": "markdown",
      "source": [
        "### 1. open and save notebook from github\n",
        "\n",
        "* click on file then new repository then choose github\n",
        "\n",
        "* click on save as github and them save\n"
      ],
      "metadata": {
        "id": "Eb6Z-QUlo7vm"
      }
    },
    {
      "cell_type": "markdown",
      "source": [
        "### 2. import file from github\n"
      ],
      "metadata": {
        "id": "4fRkGH_GAUZj"
      }
    },
    {
      "cell_type": "code",
      "source": [
        "user = \"jckantor\"\n",
        "repo = \"cbe-virtual-laboratory\"\n",
        "src_dir = \"src\"\n",
        "pyfile = \"hello_world.py\""
      ],
      "metadata": {
        "id": "T7gu7ZzFATbn"
      },
      "execution_count": null,
      "outputs": []
    },
    {
      "cell_type": "code",
      "source": [
        "url = f\"https://raw.githubusercontent.com/{user}/{repo}/main/{src_dir}/{pyfile}\"\n",
        "!wget --no-cache --backups=1 {url}"
      ],
      "metadata": {
        "id": "1JBxTdJiCZu6"
      },
      "execution_count": null,
      "outputs": []
    },
    {
      "cell_type": "code",
      "source": [
        ""
      ],
      "metadata": {
        "id": "r4s_qpXiCddS"
      },
      "execution_count": null,
      "outputs": []
    }
  ]
}